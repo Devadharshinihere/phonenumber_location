{
 "cells": [
  {
   "cell_type": "code",
   "execution_count": null,
   "id": "5c399956-c174-4d72-ad44-c2f1bd45e25f",
   "metadata": {},
   "outputs": [],
   "source": [
    "import phonenumbers\n",
    "from phonenumbers import timezone\n",
    "from phonenumbers import geocoder\n",
    "from phonenumbers import carrier\n",
    " \n",
    "number = input(\"Enter the phone number with country code : \")\n",
    " \n",
    "# Parsing String to the Phone number\n",
    "phoneNumber = phonenumbers.parse(number)\n",
    " \n",
    "# printing the timezone using the timezone module\n",
    "timeZone = timezone.time_zones_for_number(phoneNumber)\n",
    "print(\"timezone : \"+str(timeZone))\n",
    " \n",
    "# printing the geolocation of the given number using the geocoder module\n",
    "geolocation = geocoder.description_for_number(phoneNumber,\"en\")\n",
    "print(\"location : \"+geolocation)\n",
    " \n",
    "# printing the service provider name using the carrier module\n",
    "service = carrier.name_for_number(phoneNumber,\"en\")\n",
    "print(\"service provider : \"+service)"
   ]
  },
  {
   "cell_type": "code",
   "execution_count": null,
   "id": "a239002d-1d55-4364-b82c-8874bee44b5f",
   "metadata": {},
   "outputs": [],
   "source": []
  }
 ],
 "metadata": {
  "kernelspec": {
   "display_name": "Python 3 (ipykernel)",
   "language": "python",
   "name": "python3"
  },
  "language_info": {
   "codemirror_mode": {
    "name": "ipython",
    "version": 3
   },
   "file_extension": ".py",
   "mimetype": "text/x-python",
   "name": "python",
   "nbconvert_exporter": "python",
   "pygments_lexer": "ipython3",
   "version": "3.12.1"
  }
 },
 "nbformat": 4,
 "nbformat_minor": 5
}
